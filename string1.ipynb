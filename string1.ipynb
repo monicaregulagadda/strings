{
 "cells": [
  {
   "cell_type": "code",
   "execution_count": 1,
   "id": "55f6ac05-6a0f-4353-9816-3050d8bb7230",
   "metadata": {},
   "outputs": [
    {
     "name": "stdout",
     "output_type": "stream",
     "text": [
      " \n"
     ]
    }
   ],
   "source": [
    "#define a variable string\n",
    "string = \"E. Coli\"\n",
    "\n",
    "#print the varibale string[2]\n",
    "print(string[2])"
   ]
  },
  {
   "cell_type": "code",
   "execution_count": null,
   "id": "16d9fcf7-4be1-4b4e-84cd-6b4ea6059bfb",
   "metadata": {},
   "outputs": [],
   "source": []
  }
 ],
 "metadata": {
  "kernelspec": {
   "display_name": "Python 3 (ipykernel)",
   "language": "python",
   "name": "python3"
  },
  "language_info": {
   "codemirror_mode": {
    "name": "ipython",
    "version": 3
   },
   "file_extension": ".py",
   "mimetype": "text/x-python",
   "name": "python",
   "nbconvert_exporter": "python",
   "pygments_lexer": "ipython3",
   "version": "3.12.5"
  }
 },
 "nbformat": 4,
 "nbformat_minor": 5
}
